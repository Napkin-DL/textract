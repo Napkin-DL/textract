{
 "cells": [
  {
   "cell_type": "markdown",
   "metadata": {},
   "source": [
    "# Amazon Textract\n",
    "\n",
    "\n",
    "## 2. Asynchronous operations\n",
    "\n",
    "Asynchronous operations can also process documents that are in PDF format. Using PDF format files enables you to process multipage documents. \n",
    "\n",
    "For asynchronous operations, you need to supply input documents in an **Amazon S3 bucket**."
   ]
  },
  {
   "cell_type": "code",
   "execution_count": null,
   "metadata": {},
   "outputs": [],
   "source": [
    "import sys"
   ]
  },
  {
   "cell_type": "code",
   "execution_count": null,
   "metadata": {},
   "outputs": [],
   "source": [
    "!{sys.executable} -m pip install --upgrade pip\n",
    "!conda install -y -c conda-forge poppler\n",
    "!{sys.executable} -m pip install pdf2image"
   ]
  },
  {
   "cell_type": "code",
   "execution_count": null,
   "metadata": {},
   "outputs": [],
   "source": [
    "#Detects text in a document stored in an S3 bucket. Display polygon box around text and angled text \n",
    "\n",
    "import io\n",
    "import boto3\n",
    "import json\n",
    "import time\n",
    "import sys\n",
    "import textract.util as tu\n",
    "from io import BytesIO\n",
    "import psutil\n",
    "\n",
    "import copy\n",
    "import math\n",
    "from PIL import Image, ImageDraw, ImageFont\n",
    "import matplotlib.pyplot as plt\n",
    "import numpy as np\n",
    "from pdf2image import convert_from_path, convert_from_bytes\n",
    "\n",
    "\n",
    "%matplotlib inline"
   ]
  },
  {
   "cell_type": "code",
   "execution_count": null,
   "metadata": {},
   "outputs": [],
   "source": [
    "textract = boto3.client('textract')\n",
    "s3_client = boto3.client('s3')\n",
    "s3 = boto3.resource('s3')"
   ]
  },
  {
   "cell_type": "code",
   "execution_count": null,
   "metadata": {},
   "outputs": [],
   "source": [
    "class ProcessType:\n",
    "    DETECTION = 1\n",
    "    ANALYSIS = 2"
   ]
  },
  {
   "cell_type": "markdown",
   "metadata": {},
   "source": [
    "<h2><span style=\"color:red\">아래 Setting을 완성해 주시기 바랍니다!!!</span></h2>"
   ]
  },
  {
   "cell_type": "code",
   "execution_count": null,
   "metadata": {},
   "outputs": [],
   "source": [
    "## S3 데이터 버킷 정보, 실제 분석한 파일(jpg, png, pdf)를 올리는 장소로 CloudFormation에 생성된 bucket을 넣어주시면 됩니다.\n",
    "bucket='amazon-textract-demo-xxx'  \n",
    "\n",
    "## 분석할 문서 이름을 넣어주시기 바랍니다.\n",
    "test_document = [\n",
    "    'xxxxxxxxxxxxx.pdf'\n",
    "]\n",
    "\n",
    "## 분석 타입을 선택해 주시기 바랍니다. DETECTION or ANALYSIS\n",
    "types=ProcessType.ANALYSIS"
   ]
  },
  {
   "cell_type": "markdown",
   "metadata": {},
   "source": [
    "## 2-1. Performing ProcessDocument"
   ]
  },
  {
   "cell_type": "code",
   "execution_count": null,
   "metadata": {},
   "outputs": [],
   "source": [
    "def process_textract(types, bucket, document):\n",
    "    #Determine which type of processing to perform\n",
    "    if types==1:\n",
    "        response = textract.start_document_text_detection(DocumentLocation={'S3Object': {'Bucket': bucket, 'Name': document}})\n",
    "        print('Processing type: Detection')\n",
    "        validType=True        \n",
    "\n",
    "    elif types==2:\n",
    "        response = textract.start_document_analysis(DocumentLocation={'S3Object': {'Bucket': bucket, 'Name': document}},\n",
    "            FeatureTypes=[\"TABLES\", \"FORMS\"])\n",
    "        print('Processing type: Analysis')\n",
    "        validType=True    \n",
    "\n",
    "    if validType==False:\n",
    "        print(\"Invalid processing type. Choose Detection or Analysis.\")\n",
    "    return response\n"
   ]
  },
  {
   "cell_type": "code",
   "execution_count": null,
   "metadata": {},
   "outputs": [],
   "source": [
    "%%time\n",
    "analyzers = []\n",
    "jobids = []\n",
    "for document in test_document:\n",
    "    print(document)\n",
    "    try:\n",
    "        response = process_textract(types,bucket,document)\n",
    "        jobid = response['JobId']\n",
    "    except Exception as e:\n",
    "        print(\"Exception : {}\".format(e))\n",
    "        pass\n",
    "    finally:\n",
    "        print(jobid)\n",
    "        jobids.append(jobid)"
   ]
  },
  {
   "cell_type": "code",
   "execution_count": null,
   "metadata": {},
   "outputs": [],
   "source": [
    "import time\n",
    "\n",
    "max_time = time.time() + 3 * 60 * 60 # 3 hours\n",
    "while time.time() < max_time:\n",
    "    status = []\n",
    "    cnt = 0\n",
    "    for i, jobid in enumerate(jobids):\n",
    "        if types==1:\n",
    "            response = textract.get_document_text_detection(JobId=jobid)\n",
    "            status = response[\"JobStatus\"]\n",
    "            print(\"Detecting Textract for {} job {} : {}\".format(i+1, jobid, status))\n",
    "        elif types==2:\n",
    "            response = textract.get_document_analysis(JobId=jobid)\n",
    "            status = response[\"JobStatus\"]\n",
    "            print(\"Analyzing Textract for {} job {} : {}\".format(i+1, jobid, status))\n",
    "#         status.append(response[\"JobStatus\"])\n",
    "        \n",
    "        if status == \"SUCCEEDED\" or status == \"FAILED\":\n",
    "            cnt += 1\n",
    "        \n",
    "    if cnt == len(jobids):\n",
    "        break\n",
    "        \n",
    "    time.sleep(10)"
   ]
  },
  {
   "cell_type": "markdown",
   "metadata": {},
   "source": [
    "## 2-2. Anaylzing Results for Asynchronous operations"
   ]
  },
  {
   "cell_type": "markdown",
   "metadata": {},
   "source": [
    "<h2><span style=\"color:red\">결과를 확인할 문서의 번호 (리스트의 순서대로 1,2,~ ) 를 넣어주세요. </span></h2>\n",
    "\n",
    "### Input a document number among test_documents :"
   ]
  },
  {
   "cell_type": "code",
   "execution_count": null,
   "metadata": {},
   "outputs": [],
   "source": [
    "document_id = 1"
   ]
  },
  {
   "cell_type": "code",
   "execution_count": null,
   "metadata": {},
   "outputs": [],
   "source": [
    "doc_block = tu.get_multipages_block_result(jobids[document_id-1], types)"
   ]
  },
  {
   "cell_type": "markdown",
   "metadata": {},
   "source": [
    "## 2-3. Convert PDF to Image"
   ]
  },
  {
   "cell_type": "code",
   "execution_count": null,
   "metadata": {},
   "outputs": [],
   "source": [
    "try:\n",
    "    pdf_byte_string = s3_client.get_object(Bucket=bucket, Key=test_document[document_id-1])['Body'].read()\n",
    "    image = convert_from_bytes(pdf_byte_string)\n",
    "except:\n",
    "    print(\"To show images is available only in pdf documents.\")\n",
    "    pass"
   ]
  },
  {
   "cell_type": "markdown",
   "metadata": {},
   "source": [
    "## 2-4. Checking the numbers of  image and doc_block for multipage documents"
   ]
  },
  {
   "cell_type": "code",
   "execution_count": null,
   "metadata": {},
   "outputs": [],
   "source": [
    "num_img = len(image)\n",
    "num_dblock = len(doc_block)\n",
    "if not num_img==num_dblock:\n",
    "    assert \"The numbers of documents and blocks is different.\"\n",
    "else:\n",
    "    print(\"Numbers of documents: {}, and of blocks: {}\".format(num_img, num_dblock))"
   ]
  },
  {
   "cell_type": "markdown",
   "metadata": {},
   "source": [
    "<h2><span style=\"color:red\">PDF는 여러 페이지가 가능합니다. 확인할 페이지 번호 (1,2,~ ) 를 넣어주세요. </span></h2>\n",
    "\n",
    "Display 목적으로 page를 나눈 것이며, 모든 page의 결과는 json으로 받을 수 있습니다.\n",
    "\n",
    "### Input a page number in the selected document:"
   ]
  },
  {
   "cell_type": "code",
   "execution_count": null,
   "metadata": {},
   "outputs": [],
   "source": [
    "page_num = 1"
   ]
  },
  {
   "cell_type": "code",
   "execution_count": null,
   "metadata": {},
   "outputs": [],
   "source": [
    "if types==1:\n",
    "    result_image, result_blocks = tu.get_pdf_detect_document_text(image[page_num-1], doc_block[page_num-1])\n",
    "elif types==2:\n",
    "    result_image, result_blocks = tu.get_pdf_analyze_document(image[page_num-1], doc_block[page_num-1])"
   ]
  },
  {
   "cell_type": "code",
   "execution_count": null,
   "metadata": {},
   "outputs": [],
   "source": [
    "fig_x, fig_y = 20, 15\n",
    "plt.figure(figsize = (fig_x,fig_y))\n",
    "print(\"Displays the results of a text analysis on page {} of the document.\".format(page_num))\n",
    "plt.imshow(np.array(result_image))"
   ]
  },
  {
   "cell_type": "code",
   "execution_count": null,
   "metadata": {},
   "outputs": [],
   "source": [
    "page = tu.get_page(result_blocks)"
   ]
  },
  {
   "cell_type": "markdown",
   "metadata": {},
   "source": [
    "## 3. Amazon Comprehend\n",
    "### 3-1. Detecting Entitiy"
   ]
  },
  {
   "cell_type": "code",
   "execution_count": null,
   "metadata": {},
   "outputs": [],
   "source": [
    "## Input text size exceeds limit. Max length of request text allowed is 5000 bytes\n",
    "tu.detect_entities_for_comprehend(page[:5000])\n"
   ]
  },
  {
   "cell_type": "markdown",
   "metadata": {},
   "source": [
    "### 3-2. Extracting Key-Value Pairs"
   ]
  },
  {
   "cell_type": "code",
   "execution_count": null,
   "metadata": {},
   "outputs": [],
   "source": [
    "key_map, value_map, block_map = tu.get_kv_map(result_blocks)\n",
    "\n",
    "# Get Key Value relationship\n",
    "kvs = tu.get_kv_relationship(key_map, value_map, block_map)\n",
    "print(\"\\n\\n== FOUND KEY : VALUE pairs ===\\n\")\n",
    "tu.print_kvs(kvs)\n",
    "\n",
    "# Start searching a key value\n",
    "while input('\\n Do you want to search a value for a key? (enter \"n\" for exit) ') != 'n':\n",
    "    search_key = input('\\n Enter a search key:')\n",
    "    print('The value is:', tu.search_value(kvs, search_key))"
   ]
  },
  {
   "cell_type": "code",
   "execution_count": null,
   "metadata": {},
   "outputs": [],
   "source": []
  },
  {
   "cell_type": "code",
   "execution_count": null,
   "metadata": {},
   "outputs": [],
   "source": []
  }
 ],
 "metadata": {
  "kernelspec": {
   "display_name": "conda_python3",
   "language": "python",
   "name": "conda_python3"
  },
  "language_info": {
   "codemirror_mode": {
    "name": "ipython",
    "version": 3
   },
   "file_extension": ".py",
   "mimetype": "text/x-python",
   "name": "python",
   "nbconvert_exporter": "python",
   "pygments_lexer": "ipython3",
   "version": "3.6.10"
  }
 },
 "nbformat": 4,
 "nbformat_minor": 2
}
